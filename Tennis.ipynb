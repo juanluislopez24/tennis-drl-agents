{
 "cells": [
  {
   "cell_type": "markdown",
   "metadata": {},
   "source": [
    "# Collaboration and Competition\n",
    "\n",
    "---\n",
    "\n",
    "In this notebook, you will learn how to use the Unity ML-Agents environment for the third project of the [Deep Reinforcement Learning Nanodegree](https://www.udacity.com/course/deep-reinforcement-learning-nanodegree--nd893) program.\n",
    "\n",
    "### 1. Start the Environment\n",
    "\n",
    "We begin by importing the necessary packages.  If the code cell below returns an error, please revisit the project instructions to double-check that you have installed [Unity ML-Agents](https://github.com/Unity-Technologies/ml-agents/blob/master/docs/Installation.md) and [NumPy](http://www.numpy.org/)."
   ]
  },
  {
   "cell_type": "code",
   "execution_count": 1,
   "metadata": {},
   "outputs": [],
   "source": [
    "from unityagents import UnityEnvironment\n",
    "import numpy as np"
   ]
  },
  {
   "cell_type": "markdown",
   "metadata": {},
   "source": [
    "Next, we will start the environment!  **_Before running the code cell below_**, change the `file_name` parameter to match the location of the Unity environment that you downloaded.\n",
    "\n",
    "- **Mac**: `\"path/to/Tennis.app\"`\n",
    "- **Windows** (x86): `\"path/to/Tennis_Windows_x86/Tennis.exe\"`\n",
    "- **Windows** (x86_64): `\"path/to/Tennis_Windows_x86_64/Tennis.exe\"`\n",
    "- **Linux** (x86): `\"path/to/Tennis_Linux/Tennis.x86\"`\n",
    "- **Linux** (x86_64): `\"path/to/Tennis_Linux/Tennis.x86_64\"`\n",
    "- **Linux** (x86, headless): `\"path/to/Tennis_Linux_NoVis/Tennis.x86\"`\n",
    "- **Linux** (x86_64, headless): `\"path/to/Tennis_Linux_NoVis/Tennis.x86_64\"`\n",
    "\n",
    "For instance, if you are using a Mac, then you downloaded `Tennis.app`.  If this file is in the same folder as the notebook, then the line below should appear as follows:\n",
    "```\n",
    "env = UnityEnvironment(file_name=\"Tennis.app\")\n",
    "```"
   ]
  },
  {
   "cell_type": "code",
   "execution_count": 2,
   "metadata": {},
   "outputs": [
    {
     "name": "stderr",
     "output_type": "stream",
     "text": [
      "INFO:unityagents:\n",
      "'Academy' started successfully!\n",
      "Unity Academy name: Academy\n",
      "        Number of Brains: 1\n",
      "        Number of External Brains : 1\n",
      "        Lesson number : 0\n",
      "        Reset Parameters :\n",
      "\t\t\n",
      "Unity brain name: TennisBrain\n",
      "        Number of Visual Observations (per agent): 0\n",
      "        Vector Observation space type: continuous\n",
      "        Vector Observation space size (per agent): 8\n",
      "        Number of stacked Vector Observation: 3\n",
      "        Vector Action space type: continuous\n",
      "        Vector Action space size (per agent): 2\n",
      "        Vector Action descriptions: , \n"
     ]
    }
   ],
   "source": [
    "env = UnityEnvironment(file_name=\"envs/tennis/Tennis.exe\")"
   ]
  },
  {
   "cell_type": "markdown",
   "metadata": {},
   "source": [
    "Environments contain **_brains_** which are responsible for deciding the actions of their associated agents. Here we check for the first brain available, and set it as the default brain we will be controlling from Python."
   ]
  },
  {
   "cell_type": "code",
   "execution_count": 3,
   "metadata": {},
   "outputs": [],
   "source": [
    "# get the default brain\n",
    "brain_name = env.brain_names[0]\n",
    "brain = env.brains[brain_name]"
   ]
  },
  {
   "cell_type": "markdown",
   "metadata": {},
   "source": [
    "### 2. Examine the State and Action Spaces\n",
    "\n",
    "In this environment, two agents control rackets to bounce a ball over a net. If an agent hits the ball over the net, it receives a reward of +0.1.  If an agent lets a ball hit the ground or hits the ball out of bounds, it receives a reward of -0.01.  Thus, the goal of each agent is to keep the ball in play.\n",
    "\n",
    "The observation space consists of 8 variables corresponding to the position and velocity of the ball and racket. Two continuous actions are available, corresponding to movement toward (or away from) the net, and jumping. \n",
    "\n",
    "Run the code cell below to print some information about the environment."
   ]
  },
  {
   "cell_type": "code",
   "execution_count": 4,
   "metadata": {},
   "outputs": [
    {
     "name": "stdout",
     "output_type": "stream",
     "text": [
      "Number of agents: 2\n",
      "Size of each action: 2\n",
      "There are 2 agents. Each observes a state with length: 24\n",
      "The state for the first agent looks like: [ 0.          0.          0.          0.          0.          0.\n",
      "  0.          0.          0.          0.          0.          0.\n",
      "  0.          0.          0.          0.         -6.65278625 -1.5\n",
      " -0.          0.          6.83172083  6.         -0.          0.        ]\n"
     ]
    }
   ],
   "source": [
    "# reset the environment\n",
    "env_info = env.reset(train_mode=True)[brain_name]\n",
    "\n",
    "# number of agents \n",
    "num_agents = len(env_info.agents)\n",
    "print('Number of agents:', num_agents)\n",
    "\n",
    "# size of each action\n",
    "action_size = brain.vector_action_space_size\n",
    "print('Size of each action:', action_size)\n",
    "\n",
    "# examine the state space \n",
    "states = env_info.vector_observations\n",
    "state_size = states.shape[1]\n",
    "print('There are {} agents. Each observes a state with length: {}'.format(states.shape[0], state_size))\n",
    "print('The state for the first agent looks like:', states[0])"
   ]
  },
  {
   "cell_type": "markdown",
   "metadata": {},
   "source": [
    "### 3. Take Random Actions in the Environment\n",
    "\n",
    "In the next code cell, you will learn how to use the Python API to control the agents and receive feedback from the environment.\n",
    "\n",
    "Once this cell is executed, you will watch the agents' performance, if they select actions at random with each time step.  A window should pop up that allows you to observe the agents.\n",
    "\n",
    "Of course, as part of the project, you'll have to change the code so that the agents are able to use their experiences to gradually choose better actions when interacting with the environment!"
   ]
  },
  {
   "cell_type": "code",
   "execution_count": 8,
   "metadata": {},
   "outputs": [
    {
     "ename": "UnityEnvironmentException",
     "evalue": "No Unity environment is loaded.",
     "output_type": "error",
     "traceback": [
      "\u001b[1;31m---------------------------------------------------------------------------\u001b[0m",
      "\u001b[1;31mUnityEnvironmentException\u001b[0m                 Traceback (most recent call last)",
      "\u001b[1;32m<ipython-input-8-b623e7cf4504>\u001b[0m in \u001b[0;36m<module>\u001b[1;34m\u001b[0m\n\u001b[0;32m      1\u001b[0m \u001b[1;32mfor\u001b[0m \u001b[0mi\u001b[0m \u001b[1;32min\u001b[0m \u001b[0mrange\u001b[0m\u001b[1;33m(\u001b[0m\u001b[1;36m1\u001b[0m\u001b[1;33m,\u001b[0m \u001b[1;36m6\u001b[0m\u001b[1;33m)\u001b[0m\u001b[1;33m:\u001b[0m                                      \u001b[1;31m# play game for 5 episodes\u001b[0m\u001b[1;33m\u001b[0m\u001b[1;33m\u001b[0m\u001b[0m\n\u001b[1;32m----> 2\u001b[1;33m     \u001b[0menv_info\u001b[0m \u001b[1;33m=\u001b[0m \u001b[0menv\u001b[0m\u001b[1;33m.\u001b[0m\u001b[0mreset\u001b[0m\u001b[1;33m(\u001b[0m\u001b[0mtrain_mode\u001b[0m\u001b[1;33m=\u001b[0m\u001b[1;32mFalse\u001b[0m\u001b[1;33m)\u001b[0m\u001b[1;33m[\u001b[0m\u001b[0mbrain_name\u001b[0m\u001b[1;33m]\u001b[0m     \u001b[1;31m# reset the environment\u001b[0m\u001b[1;33m\u001b[0m\u001b[1;33m\u001b[0m\u001b[0m\n\u001b[0m\u001b[0;32m      3\u001b[0m     \u001b[0mstates\u001b[0m \u001b[1;33m=\u001b[0m \u001b[0menv_info\u001b[0m\u001b[1;33m.\u001b[0m\u001b[0mvector_observations\u001b[0m                  \u001b[1;31m# get the current state (for each agent)\u001b[0m\u001b[1;33m\u001b[0m\u001b[1;33m\u001b[0m\u001b[0m\n\u001b[0;32m      4\u001b[0m     \u001b[0mscores\u001b[0m \u001b[1;33m=\u001b[0m \u001b[0mnp\u001b[0m\u001b[1;33m.\u001b[0m\u001b[0mzeros\u001b[0m\u001b[1;33m(\u001b[0m\u001b[0mnum_agents\u001b[0m\u001b[1;33m)\u001b[0m                          \u001b[1;31m# initialize the score (for each agent)\u001b[0m\u001b[1;33m\u001b[0m\u001b[1;33m\u001b[0m\u001b[0m\n\u001b[0;32m      5\u001b[0m     \u001b[1;32mwhile\u001b[0m \u001b[1;32mTrue\u001b[0m\u001b[1;33m:\u001b[0m\u001b[1;33m\u001b[0m\u001b[1;33m\u001b[0m\u001b[0m\n",
      "\u001b[1;32mc:\\users\\jl\\miniconda3\\envs\\mlagents\\lib\\site-packages\\unityagents\\environment.py\u001b[0m in \u001b[0;36mreset\u001b[1;34m(self, train_mode, config, lesson)\u001b[0m\n\u001b[0;32m    270\u001b[0m             \u001b[1;32mreturn\u001b[0m \u001b[0ms\u001b[0m\u001b[1;33m[\u001b[0m\u001b[1;36m0\u001b[0m\u001b[1;33m]\u001b[0m\u001b[1;33m\u001b[0m\u001b[1;33m\u001b[0m\u001b[0m\n\u001b[0;32m    271\u001b[0m         \u001b[1;32melse\u001b[0m\u001b[1;33m:\u001b[0m\u001b[1;33m\u001b[0m\u001b[1;33m\u001b[0m\u001b[0m\n\u001b[1;32m--> 272\u001b[1;33m             \u001b[1;32mraise\u001b[0m \u001b[0mUnityEnvironmentException\u001b[0m\u001b[1;33m(\u001b[0m\u001b[1;34m\"No Unity environment is loaded.\"\u001b[0m\u001b[1;33m)\u001b[0m\u001b[1;33m\u001b[0m\u001b[1;33m\u001b[0m\u001b[0m\n\u001b[0m\u001b[0;32m    273\u001b[0m \u001b[1;33m\u001b[0m\u001b[0m\n\u001b[0;32m    274\u001b[0m     \u001b[1;32mdef\u001b[0m \u001b[0mstep\u001b[0m\u001b[1;33m(\u001b[0m\u001b[0mself\u001b[0m\u001b[1;33m,\u001b[0m  \u001b[0mvector_action\u001b[0m\u001b[1;33m=\u001b[0m\u001b[1;32mNone\u001b[0m\u001b[1;33m,\u001b[0m \u001b[0mmemory\u001b[0m\u001b[1;33m=\u001b[0m\u001b[1;32mNone\u001b[0m\u001b[1;33m,\u001b[0m \u001b[0mtext_action\u001b[0m\u001b[1;33m=\u001b[0m\u001b[1;32mNone\u001b[0m\u001b[1;33m)\u001b[0m \u001b[1;33m->\u001b[0m \u001b[0mAllBrainInfo\u001b[0m\u001b[1;33m:\u001b[0m\u001b[1;33m\u001b[0m\u001b[1;33m\u001b[0m\u001b[0m\n",
      "\u001b[1;31mUnityEnvironmentException\u001b[0m: No Unity environment is loaded."
     ]
    }
   ],
   "source": [
    "for i in range(1, 6):                                      # play game for 5 episodes\n",
    "    env_info = env.reset(train_mode=False)[brain_name]     # reset the environment    \n",
    "    states = env_info.vector_observations                  # get the current state (for each agent)\n",
    "    scores = np.zeros(num_agents)                          # initialize the score (for each agent)\n",
    "    while True:\n",
    "        actions = np.random.randn(num_agents, action_size) # select an action (for each agent)\n",
    "        actions = np.clip(actions, -1, 1)                  # all actions between -1 and 1\n",
    "        env_info = env.step(actions)[brain_name]           # send all actions to tne environment\n",
    "        next_states = env_info.vector_observations         # get next state (for each agent)\n",
    "        rewards = env_info.rewards                         # get reward (for each agent)\n",
    "        dones = env_info.local_done                        # see if episode finished\n",
    "        scores += env_info.rewards                         # update the score (for each agent)\n",
    "        states = next_states                               # roll over states to next time step\n",
    "        if np.any(dones):                                  # exit loop if episode finished\n",
    "            break\n",
    "    print('Score (max over agents) from episode {}: {}'.format(i, np.max(scores)))"
   ]
  },
  {
   "cell_type": "markdown",
   "metadata": {},
   "source": [
    "When finished, you can close the environment."
   ]
  },
  {
   "cell_type": "code",
   "execution_count": 6,
   "metadata": {},
   "outputs": [
    {
     "data": {
      "text/plain": [
       "array([[ 1.46721507, -1.18098217],\n",
       "       [-1.0829575 ,  1.11069878]])"
      ]
     },
     "execution_count": 6,
     "metadata": {},
     "output_type": "execute_result"
    }
   ],
   "source": [
    "np.random.randn(num_agents, action_size)"
   ]
  },
  {
   "cell_type": "code",
   "execution_count": 7,
   "metadata": {},
   "outputs": [],
   "source": [
    "env.close()"
   ]
  },
  {
   "cell_type": "markdown",
   "metadata": {},
   "source": [
    "### 4. It's Your Turn!\n",
    "\n",
    "Now it's your turn to train your own agent to solve the environment!  When training the environment, set `train_mode=True`, so that the line for resetting the environment looks like the following:\n",
    "```python\n",
    "env_info = env.reset(train_mode=True)[brain_name]\n",
    "```"
   ]
  },
  {
   "cell_type": "code",
   "execution_count": 9,
   "metadata": {},
   "outputs": [],
   "source": [
    "import torch\n",
    "import torch.nn as nn\n",
    "import torch.nn.functional as F\n",
    "import torch.optim as optim\n",
    "import random\n",
    "from collections import namedtuple, deque\n",
    "import matplotlib.pyplot as plt\n",
    "from unityagents import UnityEnvironment\n",
    "import numpy as np\n",
    "from numpy.random import choice\n",
    "import copy"
   ]
  },
  {
   "cell_type": "code",
   "execution_count": 10,
   "metadata": {},
   "outputs": [
    {
     "name": "stderr",
     "output_type": "stream",
     "text": [
      "INFO:unityagents:\n",
      "'Academy' started successfully!\n",
      "Unity Academy name: Academy\n",
      "        Number of Brains: 1\n",
      "        Number of External Brains : 1\n",
      "        Lesson number : 0\n",
      "        Reset Parameters :\n",
      "\t\t\n",
      "Unity brain name: TennisBrain\n",
      "        Number of Visual Observations (per agent): 0\n",
      "        Vector Observation space type: continuous\n",
      "        Vector Observation space size (per agent): 8\n",
      "        Number of stacked Vector Observation: 3\n",
      "        Vector Action space type: continuous\n",
      "        Vector Action space size (per agent): 2\n",
      "        Vector Action descriptions: , \n"
     ]
    }
   ],
   "source": [
    "env = UnityEnvironment(file_name=\"envs/tennis/Tennis.exe\")"
   ]
  },
  {
   "cell_type": "code",
   "execution_count": 11,
   "metadata": {},
   "outputs": [
    {
     "name": "stdout",
     "output_type": "stream",
     "text": [
      "Number of agents: 2\n",
      "Size of each action: 2\n",
      "There are 2 agents. Each observes a state with length: 24\n",
      "The state for the first agent looks like: [ 0.          0.          0.          0.          0.          0.\n",
      "  0.          0.          0.          0.          0.          0.\n",
      "  0.          0.          0.          0.         -6.65278625 -1.5\n",
      " -0.          0.          6.83172083  6.         -0.          0.        ]\n"
     ]
    }
   ],
   "source": [
    "\n",
    "# get the default brain\n",
    "brain_name = env.brain_names[0]\n",
    "brain = env.brains[brain_name]\n",
    "\n",
    "# reset the environment\n",
    "env_info = env.reset(train_mode=True)[brain_name]\n",
    "\n",
    "# number of agents \n",
    "num_agents = len(env_info.agents)\n",
    "print('Number of agents:', num_agents)\n",
    "\n",
    "# size of each action\n",
    "action_size = brain.vector_action_space_size\n",
    "print('Size of each action:', action_size)\n",
    "\n",
    "# examine the state space \n",
    "states = env_info.vector_observations\n",
    "state_size = states.shape[1]\n",
    "print('There are {} agents. Each observes a state with length: {}'.format(states.shape[0], state_size))\n",
    "print('The state for the first agent looks like:', states[0])"
   ]
  },
  {
   "cell_type": "code",
   "execution_count": 12,
   "metadata": {},
   "outputs": [],
   "source": [
    "# env.close()"
   ]
  },
  {
   "cell_type": "code",
   "execution_count": 14,
   "metadata": {},
   "outputs": [],
   "source": [
    "def hidden_init(layer):\n",
    "    fan_in = layer.weight.data.size()[0]\n",
    "    lim = 1. / np.sqrt(fan_in)\n",
    "    return (-lim, lim)\n",
    "\n",
    "class Actor(nn.Module):\n",
    "    def __init__(self, nA, nS, seed):\n",
    "        super(Actor, self).__init__()\n",
    "        self.seed = torch.manual_seed(seed)\n",
    "        self.dense1 = nn.Linear(nS, 256)\n",
    "        self.bn1 = nn.BatchNorm1d(256)\n",
    "        self.dense2 = nn.Linear(256, 128)\n",
    "        self.bn2 = nn.BatchNorm1d(128)\n",
    "        self.dense3 = nn.Linear(128, nA)\n",
    "        self.reset_parameters()\n",
    "    \n",
    "    def reset_parameters(self):\n",
    "        self.dense1.weight.data.uniform_(*hidden_init(self.dense1))\n",
    "        self.dense2.weight.data.uniform_(*hidden_init(self.dense2))\n",
    "        self.dense3.weight.data.uniform_(-3e-3, 3e-3)\n",
    "    \n",
    "    def forward(self, state, training=True):\n",
    "#         x = F.leaky_relu(self.bn1(self.dense1(state)))\n",
    "#         x = F.leaky_relu(self.bn2(self.dense2(x)))\n",
    "#         x = F.tanh(self.dense3(x))\n",
    "\n",
    "        x = F.leaky_relu(self.dense1(state))\n",
    "        x = F.leaky_relu(self.dense2(x))\n",
    "        x = F.tanh(self.dense3(x))\n",
    "        return x"
   ]
  },
  {
   "cell_type": "code",
   "execution_count": 15,
   "metadata": {},
   "outputs": [],
   "source": [
    "class Critic(nn.Module):\n",
    "    def __init__(self, nA, nS, seed):\n",
    "        super(Critic, self).__init__()\n",
    "        self.seed = torch.manual_seed(seed)\n",
    "        self.dense1 = nn.Linear(nS, 256)\n",
    "        self.bn1 = nn.BatchNorm1d(256)\n",
    "        self.dense2 = nn.Linear(nA+256, 128)\n",
    "        self.bn2 = nn.BatchNorm1d(128)\n",
    "        self.dense3 = nn.Linear(128, 1)\n",
    "        self.reset_parameters()\n",
    "    \n",
    "    def reset_parameters(self):\n",
    "        self.dense1.weight.data.uniform_(*hidden_init(self.dense1))\n",
    "        self.dense2.weight.data.uniform_(*hidden_init(self.dense2))\n",
    "        self.dense3.weight.data.uniform_(-4e-3, 4e-3)\n",
    "    \n",
    "    def forward(self, state, action, training=True):\n",
    "#         x = F.leaky_relu(self.bn1(self.dense1(state))).float()\n",
    "#         x = F.leaky_relu(self.bn2(self.dense2(torch.cat((x, action.float()), 1))))\n",
    "#         x = F.tanh(self.dense3(x))\n",
    "\n",
    "        x = F.leaky_relu(self.dense1(state))\n",
    "        x = torch.cat((x, action), 1)\n",
    "        x = F.leaky_relu(self.dense2(x))\n",
    "        x = self.dense3(x)\n",
    "        \n",
    "        return x"
   ]
  },
  {
   "cell_type": "code",
   "execution_count": 16,
   "metadata": {},
   "outputs": [],
   "source": [
    "class ReplayBuffer:\n",
    "    def __init__(self, buffer_size, batch_size, nA, nS, seed, prioritized=False, e=0.1):\n",
    "        self.e=e\n",
    "        self.nA = nA\n",
    "        self.nS = nS\n",
    "        self.memory = deque(maxlen=buffer_size)\n",
    "        self.buffer_size = buffer_size\n",
    "        self.batch_size = batch_size\n",
    "        self.prioritized = prioritized\n",
    "        self.seed = random.seed(seed)\n",
    "        self.experience = namedtuple(\"Experience\", field_names=[\"state\", \"action\", \"reward\", \"next_state\", \"done\", \"tdE\"])\n",
    "        \n",
    "    def add(self, state, action, reward, next_state, done, tdE):\n",
    "        e = self.experience(state, action, reward, next_state, done, tdE)\n",
    "        self.memory.append(e)\n",
    "        \n",
    "    def sample(self, a=0):\n",
    "#         PRIORITY REPLAY first attempt\n",
    "#         a = 0 if not self.prioritized\n",
    "#         experiences = random.sample(self.memory, k=self.batch_size)\n",
    "#         _, _, _, _, _, tdEs = zip(*self.memory)\n",
    "#         tdEs = np.array(list(tdEs))\n",
    "#         tdErrors = (np.abs(tdEs) + self.e)**a\n",
    "#         tdErrorsSum = np.sum(tdErrors)\n",
    "#         probabilities = tdErrors / tdErrorsSum\n",
    "#         experiencesIdx = choice(np.arange(len(tdEs)), self.batch_size, p=probabilities)\n",
    "#         experiences = [self.memory[c] for c in experiencesIdx]\n",
    "\n",
    "#         probabilities = torch.from_numpy(np.vstack(probabilities)).float().to(device)\n",
    "        probabilities = None\n",
    "        experiences = random.sample(self.memory, k=self.batch_size)\n",
    "\n",
    "        states = torch.from_numpy(np.stack([e.state for e in experiences if e is not None])).float().to(device)\n",
    "        actions = torch.from_numpy(np.stack([e.action for e in experiences if e is not None])).float().to(device)\n",
    "        rewards = torch.from_numpy(np.stack([e.reward for e in experiences if e is not None])).float().to(device)\n",
    "        next_states = torch.from_numpy(np.stack([e.next_state for e in experiences if e is not None])).float().to(device)\n",
    "        dones = torch.from_numpy(np.vstack([e.done for e in experiences if e is not None]).astype(np.uint8)).float().to(device)\n",
    "\n",
    "        return (states, actions, rewards, next_states, dones, probabilities)\n",
    "        \n",
    "    def __len__(self):\n",
    "        return len(self.memory)"
   ]
  },
  {
   "cell_type": "code",
   "execution_count": 17,
   "metadata": {},
   "outputs": [],
   "source": [
    "class OUNoise:\n",
    "    \"\"\"Ornstein-Uhlenbeck process.\"\"\"\n",
    "\n",
    "    def __init__(self, size, seed, mu=0., theta=0.15, sigma=0.2):\n",
    "        \"\"\"Initialize parameters and noise process.\"\"\"\n",
    "        self.mu = mu * np.ones(size)\n",
    "        self.theta = theta\n",
    "        self.sigma = sigma\n",
    "        self.seed = random.seed(seed)\n",
    "        self.reset()\n",
    "\n",
    "    def reset(self):\n",
    "        \"\"\"Reset the internal state (= noise) to mean (mu).\"\"\"\n",
    "        self.state = copy.copy(self.mu)\n",
    "\n",
    "    def sample(self):\n",
    "        \"\"\"Update internal state and return it as a noise sample.\"\"\"\n",
    "        x = self.state\n",
    "        dx = self.theta * (self.mu - x) + self.sigma * np.array([random.random() for i in range(len(x))])\n",
    "        self.state = x + dx\n",
    "        return self.state"
   ]
  },
  {
   "cell_type": "code",
   "execution_count": 18,
   "metadata": {},
   "outputs": [],
   "source": [
    "BUFFER_SIZE = int(1e5)  \n",
    "BATCH_SIZE = 128   \n",
    "GAMMA = 0.99       \n",
    "TAU = 1e-3      \n",
    "LR_ACTOR = 1e-4       \n",
    "LR_CRITIC = 1e-4     \n",
    "WEIGHT_DECAY = 0.0001 \n",
    "UPDATE_EVERY = 10\n",
    "UPDATE_NUM = 4\n",
    "EPSILON = 1.0\n",
    "EPS_DECAY = 5e-5\n",
    "EPS_END=0.03\n",
    "device = torch.device(\"cuda:0\" if torch.cuda.is_available() else \"cpu\")"
   ]
  },
  {
   "cell_type": "code",
   "execution_count": 19,
   "metadata": {},
   "outputs": [],
   "source": [
    "class Agent():\n",
    "    def __init__(self, nA, nS, nAgents, idxAgent, room, seed, prioritized=False):\n",
    "        self.prioritized = prioritized\n",
    "        self.state_size = nS\n",
    "        self.action_size = nA\n",
    "        self.idxAgent = idxAgent\n",
    "        self.room = room\n",
    "        self.nAgents = nAgents\n",
    "        \n",
    "        self.critic_local = Critic(nA*nAgents, nS*nAgents, seed).to(device)\n",
    "        self.critic_target = Critic(nA*nAgents, nS*nAgents, seed).to(device)\n",
    "        self.critic_optimizer = optim.Adam(self.critic_local.parameters(), lr=LR_CRITIC, weight_decay=WEIGHT_DECAY)\n",
    "        \n",
    "        self.actor_local = Actor(nA, nS, seed).to(device)\n",
    "        self.actor_target = Actor(nA, nS, seed).to(device)\n",
    "        self.actor_optimizer = optim.Adam(self.actor_local.parameters(), lr=LR_ACTOR)\n",
    "        \n",
    "        self.t_step = 0\n",
    "        self.ouNoise = OUNoise(nA, seed)\n",
    "        \n",
    "        self.memory = ReplayBuffer(BUFFER_SIZE, BATCH_SIZE, nA, nS, seed, prioritized=False, e=0.1)\n",
    "        self.epsilon = EPSILON\n",
    "        \n",
    "    def step(self, states, actions, rewards, next_states, dones, a=0, b=1):\n",
    "        tdE = 1.0\n",
    "#         for state, action, reward, next_state, done in zip(states, actions, rewards, next_states, dones):\n",
    "#             self.memory.add(state, action, reward, next_state, done, tdE)\n",
    "        self.memory.add(states, actions, rewards, next_states, dones, tdE)\n",
    "        self.t_step = (self.t_step + 1) % UPDATE_EVERY\n",
    "        \n",
    "\n",
    "        if(self.t_step == 0):\n",
    "            if(len(self.memory) > BATCH_SIZE):\n",
    "                for i in range(UPDATE_NUM):\n",
    "                    experiences = self.memory.sample(a)\n",
    "                    self.learn(experiences, GAMMA, b)\n",
    "                \n",
    "    def act(self, state, training=True):\n",
    "        state = torch.from_numpy(state).float().to(device)\n",
    "        self.actor_local.eval()\n",
    "        with torch.no_grad():\n",
    "            action_values = self.actor_local(state)\n",
    "        self.actor_local.train()\n",
    "        av2 =action_values.cpu().numpy()\n",
    "        if(training and (random.random() < self.epsilon)):\n",
    "            self.epsilon -= EPS_DECAY\n",
    "            if(self.epsilon < EPS_END):\n",
    "                self.epsilon = EPS_END\n",
    "            av2 += self.ouNoise.sample()\n",
    "        return(np.clip(av2, -1, 1))\n",
    "        \n",
    "    \n",
    "    def learn(self, experiences, gamma, b):\n",
    "        states, actions, rewards, next_states, dones, probabilities = experiences\n",
    "        next_actions = self.actor_target(next_states[:,self.idxAgent])\n",
    "        next_actions = self.room.getNextActionsTarget(next_states)\n",
    "        next_Qvalues = self.critic_target(next_states.view(BATCH_SIZE,self.nAgents*self.state_size), next_actions)\n",
    "        \n",
    "#         print('original')\n",
    "#         print(next_states[:2])\n",
    "#         print('new view')\n",
    "#         print(next_states.view(BATCH_SIZE,self.nAgents*self.state_size)[:2])\n",
    "    \n",
    "#         print('next actions')\n",
    "#         print(next_actions.shape)\n",
    "#         print('nextQvalues')\n",
    "#         print(next_Qvalues.shape)\n",
    "        \n",
    "#         print('dones')\n",
    "#         print(dones.unsqueeze(1)[:,0].shape)\n",
    "#         print(dones)\n",
    "#         print('rewards')\n",
    "#         print(rewards.unsqueeze(1).shape)\n",
    "        \n",
    "        \n",
    "        Qtargets = rewards.unsqueeze(1) + (GAMMA*next_Qvalues * (1-dones.unsqueeze(1)[:,0]))\n",
    "#         print('Qtargets')\n",
    "#         print(Qtargets.shape)\n",
    "        \n",
    "        \n",
    "        \n",
    "        Qexpected = self.critic_local(states.view(BATCH_SIZE,self.nAgents*self.state_size), actions.view(BATCH_SIZE, self.nAgents*self.action_size))\n",
    "#         print('Qexpected')\n",
    "#         print(Qexpected.shape)\n",
    "        \n",
    "        \n",
    "        loss_critic = F.mse_loss(Qexpected, Qtargets)\n",
    "        self.critic_optimizer.zero_grad()\n",
    "        loss_critic.backward()\n",
    "        torch.nn.utils.clip_grad_norm(self.critic_local.parameters(), 1.0)\n",
    "        self.critic_optimizer.step()\n",
    "        \n",
    "        actions_pred = self.actor_local(states[:,self.idxAgent])\n",
    "        actions_pred = self.room.getActionsLocal(states)\n",
    "        loss_actor = -self.critic_local(states.view(BATCH_SIZE,self.nAgents*self.state_size), actions_pred).mean()\n",
    "        \n",
    "        self.actor_optimizer.zero_grad()\n",
    "        loss_actor.backward()\n",
    "        self.actor_optimizer.step()\n",
    "        \n",
    "        self.soft_update(self.critic_local, self.critic_target, TAU)  \n",
    "        self.soft_update(self.actor_local, self.actor_target, TAU)  \n",
    "        \n",
    "        \n",
    "    def soft_update(self, local_model, target_model, tau):\n",
    "        for target_param, local_param in zip(target_model.parameters(), local_model.parameters()):\n",
    "            target_param.data.copy_(tau*local_param.data + (1.0-tau)*target_param.data)\n",
    "    \n",
    "    def reset(self):\n",
    "        self.ouNoise.reset()\n",
    "        "
   ]
  },
  {
   "cell_type": "code",
   "execution_count": 25,
   "metadata": {},
   "outputs": [],
   "source": [
    "class AgentWaitingRoom():\n",
    "    def __init__(self, nAgents, nS, nA, seed=0):\n",
    "        self.nAgents = nAgents\n",
    "        self.nA = nA\n",
    "        self.agents = [Agent(nA, nS, nAgents, agent, self, seed) for agent in range(nAgents)]\n",
    "    def train(self, n_episodes=25000, max_t=2000, print_every=100):\n",
    "        scores_all = [[] for i in range(self.nAgents)]\n",
    "        scores_avg_all=[[] for i in range(self.nAgents)]\n",
    "        score_windows = [deque(maxlen=100) for i in range(self.nAgents)]\n",
    "        for i_episode in range(1, n_episodes+1):\n",
    "            env_info = env.reset(train_mode=True)[brain_name]\n",
    "            for agent in self.agents:\n",
    "                agent.reset()\n",
    "            states = env_info.vector_observations\n",
    "            scores = np.zeros(self.nAgents)\n",
    "            \n",
    "            for t in range(max_t):\n",
    "                actions = [agent.act(states[agent.idxAgent]) for agent in self.agents]\n",
    "                env_info = env.step(actions)[brain_name]\n",
    "                next_states = env_info.vector_observations\n",
    "                rewards = env_info.rewards\n",
    "                dones = env_info.local_done\n",
    "                scores += env_info.rewards\n",
    "                for agent in self.agents:\n",
    "                    agent.step(states, actions, env_info.rewards[agent.idxAgent], next_states, dones[agent.idxAgent])\n",
    "                states = next_states\n",
    "                if(np.any(dones)):\n",
    "                    break\n",
    "                    \n",
    "            for agent in self.agents:\n",
    "                torch.save(agent.actor_local.state_dict(), 'checkpoint_actor_{}.pth'.format(agent.idxAgent))\n",
    "                torch.save(agent.actor_local.state_dict(), 'checkpoint_critic_{}.pth'.format(agent.idxAgent))\n",
    "                \n",
    "            message = '\\rEpisode {}'.format(i_episode)\n",
    "            for i, score in enumerate(scores):\n",
    "                score_windows[i].append(score)\n",
    "                scores_all[i].append(score)\n",
    "                scores_avg_all[i].append(round(np.mean(score_windows[i])))\n",
    "                message = message + '\\tAverage Score: '+str(i)+' '+str(round(np.mean(score_windows[i]), 3))\n",
    "                if(round(np.mean(score_windows[i]), 3) > 0.5):\n",
    "                    \n",
    "                    print('reached average 100 past episode score greater than 0.5 with agent {} at episode {}'.format(i, i_episode))\n",
    "                    return scores_all, scores_avg_all\n",
    "                \n",
    "            \n",
    "            print(message, end=\"\")\n",
    "            \n",
    "            \n",
    "                \n",
    "            if i_episode % print_every == 0:\n",
    "                print(message)\n",
    "        return scores_all, scores_avg_all\n",
    "    \n",
    "    \n",
    "    def getNextActionsTarget(self,next_states):\n",
    "        nextActions = []\n",
    "        for i, agent in enumerate(self.agents):\n",
    "#             agent.actor_target.eval()\n",
    "#             with torch.no_grad():\n",
    "#                 next_actions = agent.actor_target(next_states[:,i])\n",
    "#                 nextActions.append(next_actions)\n",
    "#             agent.actor_target.train()\n",
    "            \n",
    "            next_actions = agent.actor_target(next_states[:,i])\n",
    "            nextActions.append(next_actions)\n",
    "            \n",
    "        return torch.stack(nextActions, dim=1, out=None).view(BATCH_SIZE, self.nA*self.nAgents)\n",
    "\n",
    "    def getActionsLocal(self, states):\n",
    "        Actions = []\n",
    "        for i, agent in enumerate(self.agents):\n",
    "#             agent.actor_local.eval()\n",
    "#             with torch.no_grad():\n",
    "#                 actions = agent.actor_local(states[:,i])\n",
    "#                 Actions.append(actions)\n",
    "#             agent.actor_local.train()    \n",
    "            \n",
    "            actions = agent.actor_local(states[:,i])\n",
    "            Actions.append(actions)\n",
    "            \n",
    "        return torch.stack(Actions, dim=1, out=None).view(BATCH_SIZE, self.nA*self.nAgents)\n",
    "            \n",
    "                \n",
    "        "
   ]
  },
  {
   "cell_type": "code",
   "execution_count": 26,
   "metadata": {},
   "outputs": [],
   "source": [
    "room = AgentWaitingRoom(2, state_size, action_size)"
   ]
  },
  {
   "cell_type": "code",
   "execution_count": 27,
   "metadata": {},
   "outputs": [
    {
     "name": "stdout",
     "output_type": "stream",
     "text": [
      "Episode 9\tAverage Score: 0 -0.007\tAverage Score: 1 -0.003"
     ]
    },
    {
     "name": "stderr",
     "output_type": "stream",
     "text": [
      "c:\\users\\jl\\miniconda3\\envs\\mlagents\\lib\\site-packages\\ipykernel_launcher.py:90: UserWarning: torch.nn.utils.clip_grad_norm is now deprecated in favor of torch.nn.utils.clip_grad_norm_.\n"
     ]
    },
    {
     "name": "stdout",
     "output_type": "stream",
     "text": [
      "Episode 100\tAverage Score: 0 -0.003\tAverage Score: 1 -0.004\n",
      "Episode 200\tAverage Score: 0 -0.005\tAverage Score: 1 -0.005\n",
      "Episode 300\tAverage Score: 0 -0.006\tAverage Score: 1 -0.004\n",
      "Episode 400\tAverage Score: 0 -0.004\tAverage Score: 1 -0.005\n",
      "Episode 500\tAverage Score: 0 0.01\tAverage Score: 1 -0.00556\n",
      "Episode 600\tAverage Score: 0 -0.004\tAverage Score: 1 -0.006\n",
      "Episode 700\tAverage Score: 0 -0.004\tAverage Score: 1 -0.005\n",
      "Episode 800\tAverage Score: 0 -0.003\tAverage Score: 1 -0.004\n",
      "Episode 900\tAverage Score: 0 0.014\tAverage Score: 1 -0.0012\n",
      "Episode 1000\tAverage Score: 0 -0.005\tAverage Score: 1 -0.005\n",
      "Episode 1100\tAverage Score: 0 -0.005\tAverage Score: 1 -0.005\n",
      "Episode 1200\tAverage Score: 0 -0.005\tAverage Score: 1 -0.005\n",
      "Episode 1300\tAverage Score: 0 -0.005\tAverage Score: 1 -0.005\n",
      "Episode 1400\tAverage Score: 0 -0.005\tAverage Score: 1 -0.005\n",
      "Episode 1500\tAverage Score: 0 -0.003\tAverage Score: 1 -0.005\n",
      "Episode 1600\tAverage Score: 0 -0.003\tAverage Score: 1 -0.004\n",
      "Episode 1700\tAverage Score: 0 -0.0\tAverage Score: 1 -0.00665\n",
      "Episode 1800\tAverage Score: 0 -0.004\tAverage Score: 1 0.001\n",
      "Episode 1900\tAverage Score: 0 -0.005\tAverage Score: 1 -0.002\n",
      "Episode 2000\tAverage Score: 0 -0.0\tAverage Score: 1 -0.00111\n",
      "Episode 2100\tAverage Score: 0 -0.002\tAverage Score: 1 -0.005\n",
      "Episode 2200\tAverage Score: 0 -0.005\tAverage Score: 1 0.0031\n",
      "Episode 2300\tAverage Score: 0 -0.0\tAverage Score: 1 -0.00302\n",
      "Episode 2400\tAverage Score: 0 -0.002\tAverage Score: 1 -0.007\n",
      "Episode 2500\tAverage Score: 0 0.009\tAverage Score: 1 -0.0076\n",
      "Episode 2600\tAverage Score: 0 0.005\tAverage Score: 1 -0.006\n",
      "Episode 2700\tAverage Score: 0 -0.0\tAverage Score: 1 -0.00506\n",
      "Episode 2800\tAverage Score: 0 0.005\tAverage Score: 1 -0.0066\n",
      "Episode 2900\tAverage Score: 0 0.011\tAverage Score: 1 -0.006\n",
      "Episode 3000\tAverage Score: 0 0.027\tAverage Score: 1 -0.003\n",
      "Episode 3100\tAverage Score: 0 0.044\tAverage Score: 1 0.0031\n",
      "Episode 3200\tAverage Score: 0 0.04\tAverage Score: 1 0.0099\n",
      "Episode 3300\tAverage Score: 0 0.041\tAverage Score: 1 -0.007\n",
      "Episode 3400\tAverage Score: 0 0.062\tAverage Score: 1 0.0141\n",
      "Episode 3500\tAverage Score: 0 0.05\tAverage Score: 1 0.0099\n",
      "Episode 3600\tAverage Score: 0 0.048\tAverage Score: 1 0.006\n",
      "Episode 3700\tAverage Score: 0 0.053\tAverage Score: 1 -0.001\n",
      "Episode 3800\tAverage Score: 0 0.037\tAverage Score: 1 -0.006\n",
      "Episode 3900\tAverage Score: 0 0.055\tAverage Score: 1 -0.003\n",
      "Episode 4000\tAverage Score: 0 0.058\tAverage Score: 1 -0.009\n",
      "Episode 4100\tAverage Score: 0 0.056\tAverage Score: 1 0.0011\n",
      "Episode 4200\tAverage Score: 0 0.044\tAverage Score: 1 0.0041\n",
      "Episode 4300\tAverage Score: 0 0.053\tAverage Score: 1 0.012\n",
      "Episode 4400\tAverage Score: 0 0.047\tAverage Score: 1 0.011\n",
      "Episode 4500\tAverage Score: 0 0.054\tAverage Score: 1 0.0041\n",
      "Episode 4600\tAverage Score: 0 0.056\tAverage Score: 1 0.017\n",
      "Episode 4700\tAverage Score: 0 0.078\tAverage Score: 1 0.056\n",
      "Episode 4800\tAverage Score: 0 0.05\tAverage Score: 1 -0.0032\n",
      "Episode 4900\tAverage Score: 0 0.046\tAverage Score: 1 -0.006\n",
      "Episode 5000\tAverage Score: 0 0.045\tAverage Score: 1 0.0291\n",
      "Episode 5100\tAverage Score: 0 0.065\tAverage Score: 1 0.027\n",
      "Episode 5200\tAverage Score: 0 0.064\tAverage Score: 1 0.015\n",
      "Episode 5300\tAverage Score: 0 0.063\tAverage Score: 1 0.034\n",
      "Episode 5400\tAverage Score: 0 0.073\tAverage Score: 1 0.054\n",
      "Episode 5500\tAverage Score: 0 0.092\tAverage Score: 1 0.073\n",
      "Episode 5600\tAverage Score: 0 0.077\tAverage Score: 1 0.056\n",
      "Episode 5700\tAverage Score: 0 0.063\tAverage Score: 1 0.043\n",
      "Episode 5800\tAverage Score: 0 0.062\tAverage Score: 1 0.062\n",
      "Episode 5900\tAverage Score: 0 0.071\tAverage Score: 1 0.057\n",
      "Episode 6000\tAverage Score: 0 0.104\tAverage Score: 1 0.103\n",
      "Episode 6100\tAverage Score: 0 0.073\tAverage Score: 1 0.064\n",
      "Episode 6200\tAverage Score: 0 0.069\tAverage Score: 1 0.055\n",
      "Episode 6300\tAverage Score: 0 0.078\tAverage Score: 1 0.096\n",
      "Episode 6400\tAverage Score: 0 0.064\tAverage Score: 1 0.079\n",
      "Episode 6500\tAverage Score: 0 0.084\tAverage Score: 1 0.089\n",
      "Episode 6600\tAverage Score: 0 0.081\tAverage Score: 1 0.086\n",
      "Episode 6700\tAverage Score: 0 0.106\tAverage Score: 1 0.084\n",
      "Episode 6800\tAverage Score: 0 0.121\tAverage Score: 1 0.097\n",
      "Episode 6900\tAverage Score: 0 0.126\tAverage Score: 1 0.121\n",
      "Episode 7000\tAverage Score: 0 0.195\tAverage Score: 1 0.299\n",
      "Episode 7100\tAverage Score: 0 0.287\tAverage Score: 1 0.277\n",
      "Episode 7200\tAverage Score: 0 0.097\tAverage Score: 1 0.063\n",
      "Episode 7300\tAverage Score: 0 0.067\tAverage Score: 1 0.032\n",
      "Episode 7400\tAverage Score: 0 0.093\tAverage Score: 1 0.073\n",
      "Episode 7500\tAverage Score: 0 0.066\tAverage Score: 1 0.051\n",
      "Episode 7600\tAverage Score: 0 0.054\tAverage Score: 1 0.051\n",
      "Episode 7700\tAverage Score: 0 0.053\tAverage Score: 1 0.055\n",
      "Episode 7800\tAverage Score: 0 0.053\tAverage Score: 1 0.059\n",
      "Episode 7900\tAverage Score: 0 0.093\tAverage Score: 1 0.085\n",
      "Episode 8000\tAverage Score: 0 0.081\tAverage Score: 1 0.072\n",
      "Episode 8100\tAverage Score: 0 0.076\tAverage Score: 1 0.071\n",
      "Episode 8200\tAverage Score: 0 0.234\tAverage Score: 1 0.198\n",
      "Episode 8300\tAverage Score: 0 0.122\tAverage Score: 1 0.123\n",
      "Episode 8400\tAverage Score: 0 0.219\tAverage Score: 1 0.202\n",
      "Episode 8500\tAverage Score: 0 0.158\tAverage Score: 1 0.133\n",
      "Episode 8600\tAverage Score: 0 0.236\tAverage Score: 1 0.212\n",
      "Episode 8700\tAverage Score: 0 0.186\tAverage Score: 1 0.178\n",
      "Episode 8800\tAverage Score: 0 0.161\tAverage Score: 1 0.165\n",
      "Episode 8900\tAverage Score: 0 0.116\tAverage Score: 1 0.199\n",
      "Episode 9000\tAverage Score: 0 0.144\tAverage Score: 1 0.093\n",
      "Episode 9100\tAverage Score: 0 0.102\tAverage Score: 1 0.044\n",
      "Episode 9200\tAverage Score: 0 0.086\tAverage Score: 1 0.048\n",
      "Episode 9300\tAverage Score: 0 0.135\tAverage Score: 1 0.092\n",
      "Episode 9400\tAverage Score: 0 0.165\tAverage Score: 1 0.125\n",
      "Episode 9500\tAverage Score: 0 0.264\tAverage Score: 1 0.232\n",
      "Episode 9556\tAverage Score: 0 0.475\tAverage Score: 1 0.454"
     ]
    }
   ],
   "source": [
    "scores = room.train()"
   ]
  },
  {
   "cell_type": "code",
   "execution_count": 30,
   "metadata": {},
   "outputs": [
    {
     "data": {
      "image/png": "[encoded data removed]",
      "text/plain": [
       "<Figure size 432x288 with 1 Axes>"
      ]
     },
     "metadata": {
      "needs_background": "light"
     },
     "output_type": "display_data"
    },
    {
     "data": {
      "image/png": "[encoded data removed]",
      "text/plain": [
       "<Figure size 432x288 with 1 Axes>"
      ]
     },
     "metadata": {
      "needs_background": "light"
     },
     "output_type": "display_data"
    }
   ],
   "source": [
    "for score_i in scores:\n",
    "    fig = plt.figure()\n",
    "    ax = fig.add_subplot(111)\n",
    "    plt.plot(np.arange(1, len(score_i)+1), score_i)\n",
    "    plt.ylabel('Score')\n",
    "    plt.xlabel('Episode #')\n",
    "    plt.show()"
   ]
  },
  {
   "cell_type": "code",
   "execution_count": 38,
   "metadata": {},
   "outputs": [],
   "source": [
    "scores = np.array(scores)"
   ]
  },
  {
   "cell_type": "code",
   "execution_count": 40,
   "metadata": {},
   "outputs": [
    {
     "data": {
      "text/plain": [
       "2.7000000402331352"
      ]
     },
     "execution_count": 40,
     "metadata": {},
     "output_type": "execute_result"
    }
   ],
   "source": [
    "np.amax(scores[0])"
   ]
  },
  {
   "cell_type": "code",
   "execution_count": 41,
   "metadata": {},
   "outputs": [
    {
     "data": {
      "text/plain": [
       "2.7000000402331352"
      ]
     },
     "execution_count": 41,
     "metadata": {},
     "output_type": "execute_result"
    }
   ],
   "source": [
    "np.amax(scores[1])"
   ]
  },
  {
   "cell_type": "code",
   "execution_count": 37,
   "metadata": {},
   "outputs": [],
   "source": [
    "env.close()"
   ]
  },
  {
   "cell_type": "code",
   "execution_count": null,
   "metadata": {},
   "outputs": [],
   "source": [
    "def ddpg(n_episodes=10000, max_t=2000, print_every=100):\n",
    "    scores_all1 = []\n",
    "    score_window1 = deque(maxlen=100)\n",
    "    \n",
    "    scores_all2 = []\n",
    "    score_window2 = deque(maxlen=100)\n",
    "    \n",
    "    for i_episode in range(1, n_episodes+1):\n",
    "        env_info = env.reset(train_mode=True)[brain_name]\n",
    "        agent1.reset()\n",
    "        agent1.reset()\n",
    "        states = env_info.vector_observations\n",
    "        scores = np.zeros(num_agents)\n",
    "        for t in range(max_t):\n",
    "            curr_states = np.concatenate((states[0], states[1]), axis=None)\n",
    "#             print(curr_states)\n",
    "#             print(curr_states.shape)\n",
    "            actions1 = agent1.act(curr_states)\n",
    "            actions2 = agent2.act(curr_states)\n",
    "            actions = np.array([actions1, actions2])\n",
    "            env_info = env.step(actions)[brain_name]\n",
    "            next_states = env_info.vector_observations   \n",
    "            rewards = env_info.rewards\n",
    "            dones = env_info.local_done\n",
    "            scores += env_info.rewards\n",
    "            nxt_states = np.concatenate((next_states[0], next_states[1]), axis=None)\n",
    "#             print(nxt_states)\n",
    "#             print(nxt_states.shape)\n",
    "            agent1.step(curr_states, actions[0], env_info.rewards[0], nxt_states, dones[0])\n",
    "            agent2.step(curr_states, actions[1], env_info.rewards[1], nxt_states, dones[1])\n",
    "            states = next_states\n",
    "            if(np.any(dones)):\n",
    "                break\n",
    "        \n",
    "        \n",
    "#         score_mean = np.mean(scores)\n",
    "        score_window1.append(scores[0])\n",
    "        score_window2.append(scores[1])\n",
    "        scores_all1.append(scores[0])\n",
    "        scores_all2.append(scores[1])\n",
    "        print('\\rEpisode {}\\tAverage Score 1: {:.2f}\\tAverage Score 2: {:.2f}'.format(i_episode, np.mean(score_window1), np.mean(score_window2)), end=\"\")\n",
    "        torch.save(agent1.actor_local.state_dict(), 'checkpoint_actor1.pth')\n",
    "        torch.save(agent1.critic_local.state_dict(), 'checkpoint_critic1.pth')\n",
    "        torch.save(agent2.actor_local.state_dict(), 'checkpoint_actor2.pth')\n",
    "        torch.save(agent2.critic_local.state_dict(), 'checkpoint_critic2.pth')\n",
    "        if(scores[0]>=0.5):\n",
    "            break\n",
    "        if i_episode % print_every == 0:\n",
    "            print('\\rEpisode {}\\tAverage Score 1: {:.2f}\\tAverage Score 2: {:.2f}'.format(i_episode, np.mean(score_window1), np.mean(score_window2)))\n",
    "#     env.close()\n",
    "    return scores_all1, scores_all2"
   ]
  },
  {
   "cell_type": "code",
   "execution_count": 102,
   "metadata": {},
   "outputs": [
    {
     "name": "stdout",
     "output_type": "stream",
     "text": [
      "Episode 8\tAverage Score 1: -0.01\tAverage Score 2: 0.01"
     ]
    },
    {
     "name": "stderr",
     "output_type": "stream",
     "text": [
      "c:\\users\\jl\\miniconda3\\envs\\mlagents\\lib\\site-packages\\ipykernel_launcher.py:64: UserWarning: torch.nn.utils.clip_grad_norm is now deprecated in favor of torch.nn.utils.clip_grad_norm_.\n"
     ]
    },
    {
     "name": "stdout",
     "output_type": "stream",
     "text": [
      "Episode 100\tAverage Score 1: -0.00\tAverage Score 2: -0.00\n",
      "Episode 200\tAverage Score 1: -0.00\tAverage Score 2: -0.00\n",
      "Episode 300\tAverage Score 1: -0.00\tAverage Score 2: -0.01\n",
      "Episode 400\tAverage Score 1: -0.01\tAverage Score 2: -0.00\n",
      "Episode 500\tAverage Score 1: -0.01\tAverage Score 2: -0.00\n",
      "Episode 600\tAverage Score 1: -0.00\tAverage Score 2: -0.01\n",
      "Episode 700\tAverage Score 1: -0.00\tAverage Score 2: -0.01\n",
      "Episode 800\tAverage Score 1: -0.01\tAverage Score 2: -0.00\n",
      "Episode 900\tAverage Score 1: -0.00\tAverage Score 2: -0.01\n",
      "Episode 1000\tAverage Score 1: -0.00\tAverage Score 2: -0.01\n",
      "Episode 1100\tAverage Score 1: -0.01\tAverage Score 2: -0.00\n",
      "Episode 1200\tAverage Score 1: -0.01\tAverage Score 2: -0.00\n",
      "Episode 1300\tAverage Score 1: -0.00\tAverage Score 2: -0.01\n",
      "Episode 1400\tAverage Score 1: -0.00\tAverage Score 2: -0.01\n",
      "Episode 1500\tAverage Score 1: -0.01\tAverage Score 2: -0.00\n",
      "Episode 1600\tAverage Score 1: -0.00\tAverage Score 2: -0.01\n",
      "Episode 1700\tAverage Score 1: -0.00\tAverage Score 2: -0.01\n",
      "Episode 1800\tAverage Score 1: -0.00\tAverage Score 2: -0.01\n",
      "Episode 1900\tAverage Score 1: -0.01\tAverage Score 2: -0.00\n",
      "Episode 2000\tAverage Score 1: -0.01\tAverage Score 2: -0.00\n",
      "Episode 2100\tAverage Score 1: -0.00\tAverage Score 2: -0.00\n",
      "Episode 2200\tAverage Score 1: -0.00\tAverage Score 2: -0.00\n",
      "Episode 2300\tAverage Score 1: -0.00\tAverage Score 2: -0.01\n",
      "Episode 2400\tAverage Score 1: -0.01\tAverage Score 2: -0.00\n",
      "Episode 2500\tAverage Score 1: -0.00\tAverage Score 2: -0.01\n",
      "Episode 2600\tAverage Score 1: -0.00\tAverage Score 2: -0.01\n",
      "Episode 2700\tAverage Score 1: -0.01\tAverage Score 2: -0.00\n",
      "Episode 2800\tAverage Score 1: -0.01\tAverage Score 2: -0.00\n",
      "Episode 2900\tAverage Score 1: -0.01\tAverage Score 2: -0.00\n",
      "Episode 3000\tAverage Score 1: -0.01\tAverage Score 2: -0.00\n",
      "Episode 3100\tAverage Score 1: -0.01\tAverage Score 2: -0.00\n",
      "Episode 3200\tAverage Score 1: -0.00\tAverage Score 2: -0.00\n",
      "Episode 3300\tAverage Score 1: -0.01\tAverage Score 2: -0.00\n",
      "Episode 3400\tAverage Score 1: -0.01\tAverage Score 2: -0.00\n",
      "Episode 3500\tAverage Score 1: -0.01\tAverage Score 2: -0.00\n",
      "Episode 3600\tAverage Score 1: -0.00\tAverage Score 2: -0.01\n",
      "Episode 3700\tAverage Score 1: -0.00\tAverage Score 2: -0.00\n",
      "Episode 3800\tAverage Score 1: -0.00\tAverage Score 2: -0.01\n",
      "Episode 3900\tAverage Score 1: -0.00\tAverage Score 2: -0.01\n",
      "Episode 4000\tAverage Score 1: -0.01\tAverage Score 2: -0.00\n",
      "Episode 4100\tAverage Score 1: -0.01\tAverage Score 2: -0.00\n",
      "Episode 4200\tAverage Score 1: -0.00\tAverage Score 2: -0.01\n",
      "Episode 4300\tAverage Score 1: -0.00\tAverage Score 2: -0.01\n",
      "Episode 4400\tAverage Score 1: -0.00\tAverage Score 2: -0.00\n",
      "Episode 4500\tAverage Score 1: -0.00\tAverage Score 2: -0.01\n",
      "Episode 4600\tAverage Score 1: -0.01\tAverage Score 2: -0.00\n",
      "Episode 4700\tAverage Score 1: -0.01\tAverage Score 2: -0.00\n",
      "Episode 4800\tAverage Score 1: -0.00\tAverage Score 2: -0.01\n",
      "Episode 4900\tAverage Score 1: -0.00\tAverage Score 2: -0.01\n",
      "Episode 5000\tAverage Score 1: -0.01\tAverage Score 2: -0.00\n",
      "Episode 5100\tAverage Score 1: -0.01\tAverage Score 2: -0.00\n",
      "Episode 5200\tAverage Score 1: -0.00\tAverage Score 2: -0.01\n",
      "Episode 5300\tAverage Score 1: -0.01\tAverage Score 2: -0.00\n",
      "Episode 5400\tAverage Score 1: -0.01\tAverage Score 2: -0.00\n",
      "Episode 5500\tAverage Score 1: -0.01\tAverage Score 2: -0.00\n",
      "Episode 5600\tAverage Score 1: -0.00\tAverage Score 2: -0.01\n",
      "Episode 5700\tAverage Score 1: -0.00\tAverage Score 2: -0.00\n",
      "Episode 5800\tAverage Score 1: -0.00\tAverage Score 2: -0.01\n",
      "Episode 5900\tAverage Score 1: -0.00\tAverage Score 2: -0.01\n",
      "Episode 6000\tAverage Score 1: -0.00\tAverage Score 2: -0.01\n",
      "Episode 6100\tAverage Score 1: -0.00\tAverage Score 2: -0.00\n",
      "Episode 6200\tAverage Score 1: -0.00\tAverage Score 2: -0.01\n",
      "Episode 6300\tAverage Score 1: -0.00\tAverage Score 2: -0.01\n",
      "Episode 6400\tAverage Score 1: -0.01\tAverage Score 2: -0.00\n",
      "Episode 6500\tAverage Score 1: -0.00\tAverage Score 2: -0.01\n",
      "Episode 6600\tAverage Score 1: -0.00\tAverage Score 2: -0.01\n",
      "Episode 6700\tAverage Score 1: -0.01\tAverage Score 2: -0.00\n",
      "Episode 6800\tAverage Score 1: -0.01\tAverage Score 2: -0.00\n",
      "Episode 6900\tAverage Score 1: -0.00\tAverage Score 2: -0.01\n",
      "Episode 7000\tAverage Score 1: -0.00\tAverage Score 2: -0.01\n",
      "Episode 7100\tAverage Score 1: -0.01\tAverage Score 2: -0.00\n",
      "Episode 7200\tAverage Score 1: -0.01\tAverage Score 2: -0.00\n",
      "Episode 7300\tAverage Score 1: -0.00\tAverage Score 2: -0.00\n",
      "Episode 7400\tAverage Score 1: -0.01\tAverage Score 2: -0.00\n",
      "Episode 7500\tAverage Score 1: -0.00\tAverage Score 2: -0.01\n",
      "Episode 7600\tAverage Score 1: -0.00\tAverage Score 2: -0.01\n",
      "Episode 7700\tAverage Score 1: -0.00\tAverage Score 2: -0.01\n",
      "Episode 7800\tAverage Score 1: -0.01\tAverage Score 2: -0.00\n",
      "Episode 7900\tAverage Score 1: -0.00\tAverage Score 2: -0.00\n",
      "Episode 8000\tAverage Score 1: -0.01\tAverage Score 2: -0.00\n",
      "Episode 8100\tAverage Score 1: -0.01\tAverage Score 2: -0.00\n",
      "Episode 8200\tAverage Score 1: -0.00\tAverage Score 2: -0.01\n",
      "Episode 8300\tAverage Score 1: -0.01\tAverage Score 2: -0.00\n",
      "Episode 8400\tAverage Score 1: -0.00\tAverage Score 2: -0.01\n",
      "Episode 8500\tAverage Score 1: -0.00\tAverage Score 2: -0.01\n",
      "Episode 8600\tAverage Score 1: -0.01\tAverage Score 2: -0.00\n",
      "Episode 8700\tAverage Score 1: -0.00\tAverage Score 2: -0.01\n",
      "Episode 8800\tAverage Score 1: -0.01\tAverage Score 2: -0.00\n",
      "Episode 8900\tAverage Score 1: -0.00\tAverage Score 2: -0.00\n",
      "Episode 9000\tAverage Score 1: -0.01\tAverage Score 2: -0.00\n",
      "Episode 9100\tAverage Score 1: -0.00\tAverage Score 2: -0.01\n",
      "Episode 9200\tAverage Score 1: -0.00\tAverage Score 2: -0.01\n",
      "Episode 9300\tAverage Score 1: -0.00\tAverage Score 2: -0.01\n",
      "Episode 9400\tAverage Score 1: -0.00\tAverage Score 2: -0.01\n",
      "Episode 9500\tAverage Score 1: -0.01\tAverage Score 2: -0.00\n",
      "Episode 9600\tAverage Score 1: -0.01\tAverage Score 2: -0.00\n",
      "Episode 9700\tAverage Score 1: -0.00\tAverage Score 2: -0.01\n",
      "Episode 9800\tAverage Score 1: -0.01\tAverage Score 2: -0.00\n",
      "Episode 9900\tAverage Score 1: -0.01\tAverage Score 2: -0.00\n",
      "Episode 10000\tAverage Score 1: -0.01\tAverage Score 2: -0.00\n"
     ]
    }
   ],
   "source": [
    "scores1, scores2 = ddpg()"
   ]
  },
  {
   "cell_type": "code",
   "execution_count": 103,
   "metadata": {},
   "outputs": [
    {
     "data": {
      "image/png": "[encoded data removed]",
      "text/plain": [
       "<Figure size 432x288 with 1 Axes>"
      ]
     },
     "metadata": {
      "needs_background": "light"
     },
     "output_type": "display_data"
    }
   ],
   "source": [
    "fig = plt.figure()\n",
    "ax = fig.add_subplot(111)\n",
    "plt.plot(np.arange(1, len(scores1)+1), scores1)\n",
    "plt.ylabel('Score')\n",
    "plt.xlabel('Episode #')\n",
    "plt.show()"
   ]
  },
  {
   "cell_type": "code",
   "execution_count": 104,
   "metadata": {},
   "outputs": [
    {
     "data": {
      "image/png": "[encoded data removed]",
      "text/plain": [
       "<Figure size 432x288 with 1 Axes>"
      ]
     },
     "metadata": {
      "needs_background": "light"
     },
     "output_type": "display_data"
    }
   ],
   "source": [
    "fig = plt.figure()\n",
    "ax = fig.add_subplot(111)\n",
    "plt.plot(np.arange(1, len(scores2)+1), scores2)\n",
    "plt.ylabel('Score')\n",
    "plt.xlabel('Episode #')\n",
    "plt.show()"
   ]
  },
  {
   "cell_type": "code",
   "execution_count": 105,
   "metadata": {},
   "outputs": [
    {
     "ename": "RuntimeError",
     "evalue": "size mismatch, m1: [1 x 24], m2: [48 x 256] at C:/w/1/s/tmp_conda_3.6_081743/conda/conda-bld/pytorch_1572941935551/work/aten/src\\THC/generic/THCTensorMathBlas.cu:290",
     "output_type": "error",
     "traceback": [
      "\u001b[1;31m---------------------------------------------------------------------------\u001b[0m",
      "\u001b[1;31mRuntimeError\u001b[0m                              Traceback (most recent call last)",
      "\u001b[1;32m<ipython-input-105-2c452657aa81>\u001b[0m in \u001b[0;36m<module>\u001b[1;34m\u001b[0m\n\u001b[0;32m      4\u001b[0m     \u001b[0mscores\u001b[0m \u001b[1;33m=\u001b[0m \u001b[0mnp\u001b[0m\u001b[1;33m.\u001b[0m\u001b[0mzeros\u001b[0m\u001b[1;33m(\u001b[0m\u001b[0mnum_agents\u001b[0m\u001b[1;33m)\u001b[0m                          \u001b[1;31m# initialize the score (for each agent)\u001b[0m\u001b[1;33m\u001b[0m\u001b[1;33m\u001b[0m\u001b[0m\n\u001b[0;32m      5\u001b[0m     \u001b[1;32mwhile\u001b[0m \u001b[1;32mTrue\u001b[0m\u001b[1;33m:\u001b[0m\u001b[1;33m\u001b[0m\u001b[1;33m\u001b[0m\u001b[0m\n\u001b[1;32m----> 6\u001b[1;33m         \u001b[0mactions1\u001b[0m \u001b[1;33m=\u001b[0m \u001b[0magent1\u001b[0m\u001b[1;33m.\u001b[0m\u001b[0mact\u001b[0m\u001b[1;33m(\u001b[0m\u001b[0mstates\u001b[0m\u001b[1;33m[\u001b[0m\u001b[1;36m0\u001b[0m\u001b[1;33m]\u001b[0m\u001b[1;33m,\u001b[0m \u001b[0mtraining\u001b[0m\u001b[1;33m=\u001b[0m\u001b[1;32mFalse\u001b[0m\u001b[1;33m)\u001b[0m\u001b[1;33m\u001b[0m\u001b[1;33m\u001b[0m\u001b[0m\n\u001b[0m\u001b[0;32m      7\u001b[0m         \u001b[0mactions2\u001b[0m \u001b[1;33m=\u001b[0m \u001b[0magent2\u001b[0m\u001b[1;33m.\u001b[0m\u001b[0mact\u001b[0m\u001b[1;33m(\u001b[0m\u001b[0mstates\u001b[0m\u001b[1;33m[\u001b[0m\u001b[1;36m1\u001b[0m\u001b[1;33m]\u001b[0m\u001b[1;33m,\u001b[0m \u001b[0mtraining\u001b[0m\u001b[1;33m=\u001b[0m\u001b[1;32mFalse\u001b[0m\u001b[1;33m)\u001b[0m\u001b[1;33m\u001b[0m\u001b[1;33m\u001b[0m\u001b[0m\n\u001b[0;32m      8\u001b[0m         \u001b[0mactions\u001b[0m \u001b[1;33m=\u001b[0m \u001b[0mnp\u001b[0m\u001b[1;33m.\u001b[0m\u001b[0marray\u001b[0m\u001b[1;33m(\u001b[0m\u001b[1;33m[\u001b[0m\u001b[0mactions1\u001b[0m\u001b[1;33m,\u001b[0m \u001b[0mactions2\u001b[0m\u001b[1;33m]\u001b[0m\u001b[1;33m)\u001b[0m                  \u001b[1;31m# all actions between -1 and 1\u001b[0m\u001b[1;33m\u001b[0m\u001b[1;33m\u001b[0m\u001b[0m\n",
      "\u001b[1;32m<ipython-input-98-8f9cfb53bf18>\u001b[0m in \u001b[0;36mact\u001b[1;34m(self, state, training)\u001b[0m\n\u001b[0;32m     38\u001b[0m         \u001b[0mself\u001b[0m\u001b[1;33m.\u001b[0m\u001b[0mactor_local\u001b[0m\u001b[1;33m.\u001b[0m\u001b[0meval\u001b[0m\u001b[1;33m(\u001b[0m\u001b[1;33m)\u001b[0m\u001b[1;33m\u001b[0m\u001b[1;33m\u001b[0m\u001b[0m\n\u001b[0;32m     39\u001b[0m         \u001b[1;32mwith\u001b[0m \u001b[0mtorch\u001b[0m\u001b[1;33m.\u001b[0m\u001b[0mno_grad\u001b[0m\u001b[1;33m(\u001b[0m\u001b[1;33m)\u001b[0m\u001b[1;33m:\u001b[0m\u001b[1;33m\u001b[0m\u001b[1;33m\u001b[0m\u001b[0m\n\u001b[1;32m---> 40\u001b[1;33m             \u001b[0maction_values\u001b[0m \u001b[1;33m=\u001b[0m \u001b[0mself\u001b[0m\u001b[1;33m.\u001b[0m\u001b[0mactor_local\u001b[0m\u001b[1;33m(\u001b[0m\u001b[0mstate\u001b[0m\u001b[1;33m)\u001b[0m\u001b[1;33m\u001b[0m\u001b[1;33m\u001b[0m\u001b[0m\n\u001b[0m\u001b[0;32m     41\u001b[0m         \u001b[0mself\u001b[0m\u001b[1;33m.\u001b[0m\u001b[0mactor_local\u001b[0m\u001b[1;33m.\u001b[0m\u001b[0mtrain\u001b[0m\u001b[1;33m(\u001b[0m\u001b[1;33m)\u001b[0m\u001b[1;33m\u001b[0m\u001b[1;33m\u001b[0m\u001b[0m\n\u001b[0;32m     42\u001b[0m         \u001b[0mav2\u001b[0m \u001b[1;33m=\u001b[0m\u001b[0maction_values\u001b[0m\u001b[1;33m.\u001b[0m\u001b[0mcpu\u001b[0m\u001b[1;33m(\u001b[0m\u001b[1;33m)\u001b[0m\u001b[1;33m.\u001b[0m\u001b[0mnumpy\u001b[0m\u001b[1;33m(\u001b[0m\u001b[1;33m)\u001b[0m\u001b[1;33m\u001b[0m\u001b[1;33m\u001b[0m\u001b[0m\n",
      "\u001b[1;32mc:\\users\\jl\\miniconda3\\envs\\mlagents\\lib\\site-packages\\torch\\nn\\modules\\module.py\u001b[0m in \u001b[0;36m__call__\u001b[1;34m(self, *input, **kwargs)\u001b[0m\n\u001b[0;32m    539\u001b[0m             \u001b[0mresult\u001b[0m \u001b[1;33m=\u001b[0m \u001b[0mself\u001b[0m\u001b[1;33m.\u001b[0m\u001b[0m_slow_forward\u001b[0m\u001b[1;33m(\u001b[0m\u001b[1;33m*\u001b[0m\u001b[0minput\u001b[0m\u001b[1;33m,\u001b[0m \u001b[1;33m**\u001b[0m\u001b[0mkwargs\u001b[0m\u001b[1;33m)\u001b[0m\u001b[1;33m\u001b[0m\u001b[1;33m\u001b[0m\u001b[0m\n\u001b[0;32m    540\u001b[0m         \u001b[1;32melse\u001b[0m\u001b[1;33m:\u001b[0m\u001b[1;33m\u001b[0m\u001b[1;33m\u001b[0m\u001b[0m\n\u001b[1;32m--> 541\u001b[1;33m             \u001b[0mresult\u001b[0m \u001b[1;33m=\u001b[0m \u001b[0mself\u001b[0m\u001b[1;33m.\u001b[0m\u001b[0mforward\u001b[0m\u001b[1;33m(\u001b[0m\u001b[1;33m*\u001b[0m\u001b[0minput\u001b[0m\u001b[1;33m,\u001b[0m \u001b[1;33m**\u001b[0m\u001b[0mkwargs\u001b[0m\u001b[1;33m)\u001b[0m\u001b[1;33m\u001b[0m\u001b[1;33m\u001b[0m\u001b[0m\n\u001b[0m\u001b[0;32m    542\u001b[0m         \u001b[1;32mfor\u001b[0m \u001b[0mhook\u001b[0m \u001b[1;32min\u001b[0m \u001b[0mself\u001b[0m\u001b[1;33m.\u001b[0m\u001b[0m_forward_hooks\u001b[0m\u001b[1;33m.\u001b[0m\u001b[0mvalues\u001b[0m\u001b[1;33m(\u001b[0m\u001b[1;33m)\u001b[0m\u001b[1;33m:\u001b[0m\u001b[1;33m\u001b[0m\u001b[1;33m\u001b[0m\u001b[0m\n\u001b[0;32m    543\u001b[0m             \u001b[0mhook_result\u001b[0m \u001b[1;33m=\u001b[0m \u001b[0mhook\u001b[0m\u001b[1;33m(\u001b[0m\u001b[0mself\u001b[0m\u001b[1;33m,\u001b[0m \u001b[0minput\u001b[0m\u001b[1;33m,\u001b[0m \u001b[0mresult\u001b[0m\u001b[1;33m)\u001b[0m\u001b[1;33m\u001b[0m\u001b[1;33m\u001b[0m\u001b[0m\n",
      "\u001b[1;32m<ipython-input-52-66b3781d3d34>\u001b[0m in \u001b[0;36mforward\u001b[1;34m(self, state, training)\u001b[0m\n\u001b[0;32m     24\u001b[0m \u001b[1;31m#         x = F.leaky_relu(self.bn2(self.dense2(x)))\u001b[0m\u001b[1;33m\u001b[0m\u001b[1;33m\u001b[0m\u001b[1;33m\u001b[0m\u001b[0m\n\u001b[0;32m     25\u001b[0m \u001b[1;31m#         x = F.tanh(self.dense3(x))\u001b[0m\u001b[1;33m\u001b[0m\u001b[1;33m\u001b[0m\u001b[1;33m\u001b[0m\u001b[0m\n\u001b[1;32m---> 26\u001b[1;33m         \u001b[0mx\u001b[0m \u001b[1;33m=\u001b[0m \u001b[0mF\u001b[0m\u001b[1;33m.\u001b[0m\u001b[0mleaky_relu\u001b[0m\u001b[1;33m(\u001b[0m\u001b[0mself\u001b[0m\u001b[1;33m.\u001b[0m\u001b[0mdense1\u001b[0m\u001b[1;33m(\u001b[0m\u001b[0mstate\u001b[0m\u001b[1;33m)\u001b[0m\u001b[1;33m)\u001b[0m\u001b[1;33m\u001b[0m\u001b[1;33m\u001b[0m\u001b[0m\n\u001b[0m\u001b[0;32m     27\u001b[0m         \u001b[0mx\u001b[0m \u001b[1;33m=\u001b[0m \u001b[0mF\u001b[0m\u001b[1;33m.\u001b[0m\u001b[0mleaky_relu\u001b[0m\u001b[1;33m(\u001b[0m\u001b[0mself\u001b[0m\u001b[1;33m.\u001b[0m\u001b[0mdense2\u001b[0m\u001b[1;33m(\u001b[0m\u001b[0mx\u001b[0m\u001b[1;33m)\u001b[0m\u001b[1;33m)\u001b[0m\u001b[1;33m\u001b[0m\u001b[1;33m\u001b[0m\u001b[0m\n\u001b[0;32m     28\u001b[0m         \u001b[0mx\u001b[0m \u001b[1;33m=\u001b[0m \u001b[0mF\u001b[0m\u001b[1;33m.\u001b[0m\u001b[0mtanh\u001b[0m\u001b[1;33m(\u001b[0m\u001b[0mself\u001b[0m\u001b[1;33m.\u001b[0m\u001b[0mdense3\u001b[0m\u001b[1;33m(\u001b[0m\u001b[0mx\u001b[0m\u001b[1;33m)\u001b[0m\u001b[1;33m)\u001b[0m\u001b[1;33m\u001b[0m\u001b[1;33m\u001b[0m\u001b[0m\n",
      "\u001b[1;32mc:\\users\\jl\\miniconda3\\envs\\mlagents\\lib\\site-packages\\torch\\nn\\modules\\module.py\u001b[0m in \u001b[0;36m__call__\u001b[1;34m(self, *input, **kwargs)\u001b[0m\n\u001b[0;32m    539\u001b[0m             \u001b[0mresult\u001b[0m \u001b[1;33m=\u001b[0m \u001b[0mself\u001b[0m\u001b[1;33m.\u001b[0m\u001b[0m_slow_forward\u001b[0m\u001b[1;33m(\u001b[0m\u001b[1;33m*\u001b[0m\u001b[0minput\u001b[0m\u001b[1;33m,\u001b[0m \u001b[1;33m**\u001b[0m\u001b[0mkwargs\u001b[0m\u001b[1;33m)\u001b[0m\u001b[1;33m\u001b[0m\u001b[1;33m\u001b[0m\u001b[0m\n\u001b[0;32m    540\u001b[0m         \u001b[1;32melse\u001b[0m\u001b[1;33m:\u001b[0m\u001b[1;33m\u001b[0m\u001b[1;33m\u001b[0m\u001b[0m\n\u001b[1;32m--> 541\u001b[1;33m             \u001b[0mresult\u001b[0m \u001b[1;33m=\u001b[0m \u001b[0mself\u001b[0m\u001b[1;33m.\u001b[0m\u001b[0mforward\u001b[0m\u001b[1;33m(\u001b[0m\u001b[1;33m*\u001b[0m\u001b[0minput\u001b[0m\u001b[1;33m,\u001b[0m \u001b[1;33m**\u001b[0m\u001b[0mkwargs\u001b[0m\u001b[1;33m)\u001b[0m\u001b[1;33m\u001b[0m\u001b[1;33m\u001b[0m\u001b[0m\n\u001b[0m\u001b[0;32m    542\u001b[0m         \u001b[1;32mfor\u001b[0m \u001b[0mhook\u001b[0m \u001b[1;32min\u001b[0m \u001b[0mself\u001b[0m\u001b[1;33m.\u001b[0m\u001b[0m_forward_hooks\u001b[0m\u001b[1;33m.\u001b[0m\u001b[0mvalues\u001b[0m\u001b[1;33m(\u001b[0m\u001b[1;33m)\u001b[0m\u001b[1;33m:\u001b[0m\u001b[1;33m\u001b[0m\u001b[1;33m\u001b[0m\u001b[0m\n\u001b[0;32m    543\u001b[0m             \u001b[0mhook_result\u001b[0m \u001b[1;33m=\u001b[0m \u001b[0mhook\u001b[0m\u001b[1;33m(\u001b[0m\u001b[0mself\u001b[0m\u001b[1;33m,\u001b[0m \u001b[0minput\u001b[0m\u001b[1;33m,\u001b[0m \u001b[0mresult\u001b[0m\u001b[1;33m)\u001b[0m\u001b[1;33m\u001b[0m\u001b[1;33m\u001b[0m\u001b[0m\n",
      "\u001b[1;32mc:\\users\\jl\\miniconda3\\envs\\mlagents\\lib\\site-packages\\torch\\nn\\modules\\linear.py\u001b[0m in \u001b[0;36mforward\u001b[1;34m(self, input)\u001b[0m\n\u001b[0;32m     85\u001b[0m \u001b[1;33m\u001b[0m\u001b[0m\n\u001b[0;32m     86\u001b[0m     \u001b[1;32mdef\u001b[0m \u001b[0mforward\u001b[0m\u001b[1;33m(\u001b[0m\u001b[0mself\u001b[0m\u001b[1;33m,\u001b[0m \u001b[0minput\u001b[0m\u001b[1;33m)\u001b[0m\u001b[1;33m:\u001b[0m\u001b[1;33m\u001b[0m\u001b[1;33m\u001b[0m\u001b[0m\n\u001b[1;32m---> 87\u001b[1;33m         \u001b[1;32mreturn\u001b[0m \u001b[0mF\u001b[0m\u001b[1;33m.\u001b[0m\u001b[0mlinear\u001b[0m\u001b[1;33m(\u001b[0m\u001b[0minput\u001b[0m\u001b[1;33m,\u001b[0m \u001b[0mself\u001b[0m\u001b[1;33m.\u001b[0m\u001b[0mweight\u001b[0m\u001b[1;33m,\u001b[0m \u001b[0mself\u001b[0m\u001b[1;33m.\u001b[0m\u001b[0mbias\u001b[0m\u001b[1;33m)\u001b[0m\u001b[1;33m\u001b[0m\u001b[1;33m\u001b[0m\u001b[0m\n\u001b[0m\u001b[0;32m     88\u001b[0m \u001b[1;33m\u001b[0m\u001b[0m\n\u001b[0;32m     89\u001b[0m     \u001b[1;32mdef\u001b[0m \u001b[0mextra_repr\u001b[0m\u001b[1;33m(\u001b[0m\u001b[0mself\u001b[0m\u001b[1;33m)\u001b[0m\u001b[1;33m:\u001b[0m\u001b[1;33m\u001b[0m\u001b[1;33m\u001b[0m\u001b[0m\n",
      "\u001b[1;32mc:\\users\\jl\\miniconda3\\envs\\mlagents\\lib\\site-packages\\torch\\nn\\functional.py\u001b[0m in \u001b[0;36mlinear\u001b[1;34m(input, weight, bias)\u001b[0m\n\u001b[0;32m   1370\u001b[0m         \u001b[0mret\u001b[0m \u001b[1;33m=\u001b[0m \u001b[0mtorch\u001b[0m\u001b[1;33m.\u001b[0m\u001b[0maddmm\u001b[0m\u001b[1;33m(\u001b[0m\u001b[0mbias\u001b[0m\u001b[1;33m,\u001b[0m \u001b[0minput\u001b[0m\u001b[1;33m,\u001b[0m \u001b[0mweight\u001b[0m\u001b[1;33m.\u001b[0m\u001b[0mt\u001b[0m\u001b[1;33m(\u001b[0m\u001b[1;33m)\u001b[0m\u001b[1;33m)\u001b[0m\u001b[1;33m\u001b[0m\u001b[1;33m\u001b[0m\u001b[0m\n\u001b[0;32m   1371\u001b[0m     \u001b[1;32melse\u001b[0m\u001b[1;33m:\u001b[0m\u001b[1;33m\u001b[0m\u001b[1;33m\u001b[0m\u001b[0m\n\u001b[1;32m-> 1372\u001b[1;33m         \u001b[0moutput\u001b[0m \u001b[1;33m=\u001b[0m \u001b[0minput\u001b[0m\u001b[1;33m.\u001b[0m\u001b[0mmatmul\u001b[0m\u001b[1;33m(\u001b[0m\u001b[0mweight\u001b[0m\u001b[1;33m.\u001b[0m\u001b[0mt\u001b[0m\u001b[1;33m(\u001b[0m\u001b[1;33m)\u001b[0m\u001b[1;33m)\u001b[0m\u001b[1;33m\u001b[0m\u001b[1;33m\u001b[0m\u001b[0m\n\u001b[0m\u001b[0;32m   1373\u001b[0m         \u001b[1;32mif\u001b[0m \u001b[0mbias\u001b[0m \u001b[1;32mis\u001b[0m \u001b[1;32mnot\u001b[0m \u001b[1;32mNone\u001b[0m\u001b[1;33m:\u001b[0m\u001b[1;33m\u001b[0m\u001b[1;33m\u001b[0m\u001b[0m\n\u001b[0;32m   1374\u001b[0m             \u001b[0moutput\u001b[0m \u001b[1;33m+=\u001b[0m \u001b[0mbias\u001b[0m\u001b[1;33m\u001b[0m\u001b[1;33m\u001b[0m\u001b[0m\n",
      "\u001b[1;31mRuntimeError\u001b[0m: size mismatch, m1: [1 x 24], m2: [48 x 256] at C:/w/1/s/tmp_conda_3.6_081743/conda/conda-bld/pytorch_1572941935551/work/aten/src\\THC/generic/THCTensorMathBlas.cu:290"
     ]
    }
   ],
   "source": [
    "for i in range(1, 20):                                      # play game for 5 episodes\n",
    "    env_info = env.reset(train_mode=False)[brain_name]     # reset the environment    \n",
    "    states = env_info.vector_observations                  # get the current state (for each agent)\n",
    "    scores = np.zeros(num_agents)                          # initialize the score (for each agent)\n",
    "    while True:\n",
    "        actions1 = agent1.act(states[0], training=False)\n",
    "        actions2 = agent2.act(states[1], training=False)\n",
    "        actions = np.array([actions1, actions2])                  # all actions between -1 and 1\n",
    "        env_info = env.step(actions)[brain_name]           # send all actions to tne environment\n",
    "        next_states = env_info.vector_observations         # get next state (for each agent)\n",
    "        rewards = env_info.rewards                         # get reward (for each agent)\n",
    "        dones = env_info.local_done                        # see if episode finished\n",
    "        scores += env_info.rewards                         # update the score (for each agent)\n",
    "        states = next_states                               # roll over states to next time step\n",
    "        if np.any(dones):                                  # exit loop if episode finished\n",
    "            break\n",
    "    print('Score (max over agents) from episode {}: {}'.format(i, np.max(scores)))"
   ]
  },
  {
   "cell_type": "code",
   "execution_count": null,
   "metadata": {},
   "outputs": [],
   "source": []
  },
  {
   "cell_type": "code",
   "execution_count": 48,
   "metadata": {},
   "outputs": [],
   "source": [
    "env.close()"
   ]
  },
  {
   "cell_type": "code",
   "execution_count": null,
   "metadata": {},
   "outputs": [],
   "source": []
  }
 ],
 "metadata": {
  "kernelspec": {
   "display_name": "Python 3",
   "language": "python",
   "name": "python3"
  },
  "language_info": {
   "codemirror_mode": {
    "name": "ipython",
    "version": 3
   },
   "file_extension": ".py",
   "mimetype": "text/x-python",
   "name": "python",
   "nbconvert_exporter": "python",
   "pygments_lexer": "ipython3",
   "version": "3.6.9"
  }
 },
 "nbformat": 4,
 "nbformat_minor": 4
}
